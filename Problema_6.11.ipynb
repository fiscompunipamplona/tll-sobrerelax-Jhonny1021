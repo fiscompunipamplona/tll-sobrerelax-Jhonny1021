{
 "cells": [
  {
   "cell_type": "markdown",
   "metadata": {},
   "source": [
    "# Problema 6.11\n",
    "\n",
    "El método de relajación ordinario implica iterar la ecuación $x'= f(x)$, comenzando desde una suposición inicial hasta que converge. Como hemos visto, esta es a menudo una forma rápida y fácil de encontrar soluciones a ecuaciones no lineales. Sin embargo, en algunos casos es posible hacer que el método funcione aún más rápido utilizando la técnica de sobrerelajación.Supongamos que nuestra conjetura inicial en la solución de una ecuación particular es, digamos, $x = 1$, y la solución verdadera final es $x = 5$. Después del primer paso del proceso iterativo, podríamos ver un valor de, digamos, $x = 3$. En el método de sobrerelajación, observamos este valor y observamos que x aumenta, luego deliberadamente sobrepasamos el valor calculado, con la esperanza de que esto nos acerque a la solución final; en este caso, podríamos pasar por alto $x = 3$ e ir directamente a un valor de $x = 4$ quizás, que está más cerca de la solución final de $x = 5$ y, por lo tanto, debería llevarnos a esa solución más rápido. El método de sobre-relajación proporciona una fórmula para realizar este tipo de sobrepasado de manera controlada y, a menudo, aunque no siempre, nos lleva a nuestra solución más rápido.En detalle la funcion $x'= f(x)$ en la forma $x'=x+\\Delta x$, cuando\n",
    "\n",
    "$\\Delta x=x'-x=f(x)-x$,\n",
    "\n",
    "El metodo de sobrerelajacion implica la iteración de la ecuación modificada\n",
    "\n",
    "$x'=x+(1+\\omega)\\Delta x$,\n",
    "\n",
    "(manteniendo la definición de $\\Delta x$ igual). Si el parámetro $\\omega$ es cero, entonces esto es lo mismo que el método de relajación ordinario, pero para $\\omega>0$ el método toma la cantidad $\\Delta x$ por la cual el valor de $x$ habría cambiado y cambia un poco más. Usando $\\Delta x = f (x) - x$, también podemos escribir $x'$ como\n",
    "\n",
    "$x'=x+(1+\\omega)[f(x)-x]=(1+\\omega)f(x)-\\omega x$,\n",
    "\n",
    "la cual es la forma en la que es usualmente escrita.\n",
    "\n",
    "Para que el método funcione, el valor de $\\omega$ debe elegirse correctamente, aunque hay cierto margen de maniobra: hay un valor óptimo, pero otros valores cercanos a él también suelen dar buenos resultados. Desafortunadamente, no existe una teoría general que nos diga cuál es el valor óptimo. Por lo general, se encuentra por prueba y error.\n",
    "\n",
    "**a)** Derive una ecuación equivalente a la ecuación Eq.(6.81) para el metodo de overrelajación y por lo tanto muestre que el error en $x{}'$, el equivalente a la Eq.(6.83), esta dada por\n",
    "\n",
    "\\begin{equation}\n",
    "\\epsilon {}'\\simeq \\frac{x-x{}'}{1-1/[(1+\\omega )f{}'(x)-\\omega)]}\n",
    "\\end{equation}\n",
    "\n",
    "**b)** Considere de nuevo la ecuación $x=1-e^{-cx}$ que resolvimos en el Ejercicio 6.10. Tome el programa que escribio en la parte (a) de el ejercicio, que resuelve la ecuación para el caso $c=2$, y modifiquelo para imprimir el numero de iteraciones que toma para converger a la solcuion con una precision de $10^{-6}$.\n",
    "\n",
    "**c)** Ahora escriba un nuevo programa (o modifique el anterior) para resolver la misma ecuación $x=1-e^{-cx}$ para $c=2$, de nuevo con la precisión de de $10^{-6}$, pero esta vez usando la sobreralajacion. El programa tiene que imprimir las respuestas que encuentra con el numero de iteraciones que tomo encontrarla. Experimente con diferentes valores de $\\omega $ para ver que tan rapido se puede obtener para que el metodo converga. Un valor de $\\omega =0.5$ es un punto de partida razonable. Con algo de prueba y error deberia obtener el calculo para converger al menos el doble de rapido que con el metodo de relajacion simple, es decir, con la mitad de iteraciones.\n",
    "\n",
    "**d)** Hay alguna circunstancia en la cual usando un valor de $\\omega <0$ podria ayudarnos a encontrar una solucion mas rapido que de la que obtenemos con el metodo ordinario de relajacion? (Pista: la respues es si, pero por que?)\n",
    "\n",
    "\n"
   ]
  },
  {
   "cell_type": "markdown",
   "metadata": {},
   "source": [
    "# Solucion a)(Calculando el numero de iteraciones"
   ]
  },
  {
   "cell_type": "markdown",
   "metadata": {},
   "source": [
    "Conociendo que:\n",
    "\n",
    "$x^{*}=x'+\\varepsilon'$\n",
    "\n",
    "Conociendo el valor de $x{}'$ para el metodo de sobrerelajacion\n",
    "\n",
    "$x'=(1+\\omega)f(x)-\\omega x$\n",
    "\n",
    "Reemplazando $x{}'$ en $x^{*}$, obtenemos\n",
    "\n",
    "$x^{*}=(1+\\omega)f(x)-\\omega x+\\varepsilon'$\n",
    "\n",
    "$f'(x^{*})=(1+\\omega)f'(x)-\\omega$\n",
    "\n",
    "Reescribiendo $\\varepsilon' $ para tener un estimado Ec.6.83\n",
    "\n",
    "$\\varepsilon' =\\frac{x-x^{*}}{1-\\frac{1}{f'(x^{*})}}$\n",
    "\n",
    "Reemplazando tenemos que:\n",
    "\\begin{equation}\n",
    "\\varepsilon'=\\frac{x-x^{*}}{1-\\frac{1}{(1+\\omega)f'(x)-\\omega}}\n",
    "\\end{equation}"
   ]
  },
  {
   "cell_type": "markdown",
   "metadata": {},
   "source": [
    "\n",
    "# Solucion b)(Calculando el numero de iteraciones)"
   ]
  },
  {
   "cell_type": "code",
   "execution_count": 2,
   "metadata": {},
   "outputs": [
    {
     "data": {
      "image/png": "[encoded data removed]",
      "text/plain": [
       "<Figure size 432x288 with 1 Axes>"
      ]
     },
     "metadata": {
      "needs_background": "light"
     },
     "output_type": "display_data"
    },
    {
     "name": "stdout",
     "output_type": "stream",
     "text": [
      "Iteraciones: 16\n",
      "0.7968113781935964\n"
     ]
    }
   ],
   "source": [
    "from pylab import plot,exp,show\n",
    "\n",
    "#Constantes\n",
    "x1 = 0.5\n",
    "c = 2\n",
    "accuracy = 1e-6\n",
    "\n",
    "#Lista para graficar\n",
    "x=[]\n",
    "x.append(x1)\n",
    "error = 1.0\n",
    "# Bucle hasta que el error sea lo suficiente pequeño\n",
    "while error>accuracy:\n",
    "    x1,x2 = 1-exp(-c*x1),x1\n",
    "    error = abs((x1-x2)/(1-1/(c*exp(-c*x2))))\n",
    "    x.append(x1)\n",
    "\n",
    "plot(x)\n",
    "show()\n",
    "print(\"Iteraciones:\",len(x))\n",
    "print(x1)"
   ]
  },
  {
   "cell_type": "markdown",
   "metadata": {},
   "source": [
    "# Solucion c)(Modificando para el metodo de sobre relajacion y calculando numero de iteraciones)"
   ]
  },
  {
   "cell_type": "code",
   "execution_count": 3,
   "metadata": {},
   "outputs": [
    {
     "data": {
      "image/png": "[encoded data removed]",
      "text/plain": [
       "<Figure size 432x288 with 1 Axes>"
      ]
     },
     "metadata": {
      "needs_background": "light"
     },
     "output_type": "display_data"
    },
    {
     "name": "stdout",
     "output_type": "stream",
     "text": [
      "Numero de iteraciones: 8\n",
      "0.7968118293563258\n"
     ]
    }
   ],
   "source": [
    "from pylab import plot,exp,show\n",
    "\n",
    "#Constantes\n",
    "x1 = 0.5\n",
    "c = 2\n",
    "accuracy = 1e-6\n",
    "error = 1.0\n",
    "w = 0.5\n",
    "\n",
    "#Lista para graficar\n",
    "x=[]\n",
    "x.append(x1)\n",
    "\n",
    "# Bucle hasta que el error sea lo suficiente pequeño\n",
    "while error>accuracy:\n",
    "    x1,x2 = (1+w)*(1-exp(-c*x1))-w*x1,x1\n",
    "    error = abs((x1-x2)/(1-1/((1+w)*(c*exp(-c*x2))-w)))\n",
    "    x.append(x1)\n",
    "\n",
    "plot(x)\n",
    "show()\n",
    "print(\"Numero de iteraciones:\",len(x))\n",
    "print(x1)"
   ]
  },
  {
   "cell_type": "markdown",
   "metadata": {},
   "source": [
    "# Solución d)"
   ]
  },
  {
   "cell_type": "code",
   "execution_count": 4,
   "metadata": {},
   "outputs": [
    {
     "data": {
      "image/png": "[encoded data removed]",
      "text/plain": [
       "<Figure size 432x288 with 1 Axes>"
      ]
     },
     "metadata": {
      "needs_background": "light"
     },
     "output_type": "display_data"
    },
    {
     "name": "stdout",
     "output_type": "stream",
     "text": [
      "Numero de iteraciones: 65\n",
      "0.7968106882262778\n"
     ]
    }
   ],
   "source": [
    "from pylab import plot,exp,show\n",
    "\n",
    "#Constantes\n",
    "x1 = 0.5\n",
    "c = 2\n",
    "accuracy = 1e-6\n",
    "error = 1.0\n",
    "w = -0.7\n",
    "\n",
    "#Lista para graficar\n",
    "x=[]\n",
    "x.append(x1)\n",
    "\n",
    "# Bucle hasta que el error sea lo suficiente pequeño\n",
    "while error>accuracy:\n",
    "    x1,x2 = (1+w)*(1-exp(-c*x1))-w*x1,x1\n",
    "    error = abs((x1-x2)/(1-1/(1+w)*(c*exp(-c*x2))-w))\n",
    "    x.append(x1)\n",
    "\n",
    "plot(x)\n",
    "show()\n",
    "print(\"Numero de iteraciones:\",len(x))\n",
    "print(x1)"
   ]
  },
  {
   "cell_type": "markdown",
   "metadata": {},
   "source": [
    "El numero de iteraciones se vera amplificada. Esto quiere decir que para este problema en especifico no es optimo usar $\\omega <0$.\n",
    "\n",
    "Pero ahora, suponiendo que la solución para una función en especifico esta en el lado negativo de $x$, es decir $x<0$, entonces tomar un valor negativo tambien para $\\omega $ recortaria el numero de iteraciones. Esto es debido a el comportamiento de $\\omega $ en la ecuación $x^{*}=(1+\\omega)f(x)-\\omega x+\\varepsilon'$."
   ]
  },
  {
   "cell_type": "code",
   "execution_count": null,
   "metadata": {},
   "outputs": [],
   "source": []
  }
 ],
 "metadata": {
  "kernelspec": {
   "display_name": "Python 3",
   "language": "python",
   "name": "python3"
  },
  "language_info": {
   "codemirror_mode": {
    "name": "ipython",
    "version": 3
   },
   "file_extension": ".py",
   "mimetype": "text/x-python",
   "name": "python",
   "nbconvert_exporter": "python",
   "pygments_lexer": "ipython3",
   "version": "3.7.3"
  }
 },
 "nbformat": 4,
 "nbformat_minor": 2
}
